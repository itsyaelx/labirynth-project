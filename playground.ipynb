{
 "cells": [
  {
   "cell_type": "code",
   "execution_count": null,
   "metadata": {},
   "outputs": [],
   "source": [
    "import labirynth as lbth\n",
    "\n",
    "labirynth = [\n",
    "                [\"X\", \" \", \"X\", \"X\", \"X\", \"X\", \"X\", \"X\", \"X\", \"X\"],\n",
    "                [\"X\", \" \", \"X\", \" \", \" \", \" \", \" \", \" \", \" \", \"X\"],\n",
    "                [\"X\", \" \", \"X\", \"X\", \"X\", \" \", \"X\", \"X\", \" \", \"X\"],\n",
    "                [\"X\", \" \", \" \", \" \", \" \", \" \", \"X\", \" \", \" \", \"X\"],\n",
    "                [\"X\", \" \", \"X\", \"X\", \"X\", \" \", \"X\", \"X\", \" \", \"X\"],\n",
    "                [\"X\", \" \", \"X\", \" \", \" \", \" \", \" \", \"X\", \" \", \"X\"],\n",
    "                [\"X\", \"X\", \"X\", \" \", \"X\", \"X\", \" \", \"X\", \" \", \"X\"],\n",
    "                [\"X\", \" \", \" \", \" \", \"X\", \" \", \" \", \"X\", \" \", \"X\"],\n",
    "                [\"X\", \" \", \"X\", \"X\", \"X\", \" \", \"X\", \"X\", \"X\", \"X\"],\n",
    "                [\"X\", \" \", \" \", \" \", \"X\", \" \", \" \", \" \", \" \", \" \"],\n",
    "                [\"X\", \"X\", \"X\", \"X\", \"X\", \"X\", \"X\", \"X\", \"X\", \"X\"],\n",
    "            ]"
   ]
  },
  {
   "cell_type": "code",
   "execution_count": null,
   "metadata": {},
   "outputs": [],
   "source": [
    "lbth.visualizeLabirynth(labirynth)"
   ]
  }
 ],
 "metadata": {
  "kernelspec": {
   "display_name": "Python 3",
   "language": "python",
   "name": "python3"
  },
  "language_info": {
   "codemirror_mode": {
    "name": "ipython",
    "version": 3
   },
   "file_extension": ".py",
   "mimetype": "text/x-python",
   "name": "python",
   "nbconvert_exporter": "python",
   "pygments_lexer": "ipython3",
   "version": "3.11.0"
  },
  "orig_nbformat": 4
 },
 "nbformat": 4,
 "nbformat_minor": 2
}
